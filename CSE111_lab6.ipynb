{
  "nbformat": 4,
  "nbformat_minor": 0,
  "metadata": {
    "colab": {
      "provenance": []
    },
    "kernelspec": {
      "name": "python3",
      "display_name": "Python 3"
    },
    "language_info": {
      "name": "python"
    }
  },
  "cells": [
    {
      "cell_type": "markdown",
      "source": [
        "# Task 01"
      ],
      "metadata": {
        "id": "PM_Olb6jMjjL"
      }
    },
    {
      "cell_type": "code",
      "execution_count": null,
      "metadata": {
        "colab": {
          "base_uri": "https://localhost:8080/"
        },
        "outputId": "24693a84-31d3-49dc-a36d-5de2f78389a7",
        "id": "OfZG3EIMKEgV"
      },
      "outputs": [
        {
          "output_type": "stream",
          "name": "stdout",
          "text": [
            "ID: 1\n",
            "Name: Samin\n",
            "Department: CSE\n",
            "Age: 21\n",
            "CGPA: 3.91\n",
            "-----------------------\n",
            "ID: 2\n",
            "Name: Fahim\n",
            "Department: ECE\n",
            "Age: 21\n",
            "CGPA: 3.85\n",
            "-----------------------\n",
            "ID: 3\n",
            "Name: Tahura\n",
            "Department: EEE\n",
            "Age: 22\n",
            "CGPA: 3.01\n",
            "-----------------------\n",
            "ID: 4\n",
            "Name: Sumaiya\n",
            "Department: BBA\n",
            "Age: 23\n",
            "CGPA: 3.96\n",
            "Class variables also known as static variables are declared with the static keyword in a class, but outside a method, constructor or a block. Instance variables are created when an object is created with the use of the keyword 'new' and destroyed when the object is destroyed.\n",
            "Instance methods need a class instance and can access the instance through self . Class methods don't need a class instance. They can't access the instance ( self ) but they have access to the class itself via cls \n"
          ]
        }
      ],
      "source": [
        "class Student:\n",
        "    ID = 0\n",
        "    def __init__(self,name,dept,age,cg):\n",
        "        self.name = name\n",
        "        self.department = dept\n",
        "        self.age = age\n",
        "        self.cgpa = cg\n",
        "        Student.ID += 1\n",
        "    def showDetails(self):\n",
        "        print(f\"ID: {Student.ID}\")\n",
        "        print(f\"Name: {self.name}\")\n",
        "        print(f\"Department: {self.department}\")\n",
        "        print(f\"Age: {self.age}\")\n",
        "        print(f\"CGPA: {self.cgpa}\")\n",
        "    @classmethod\n",
        "    def  from_String(cls,word):\n",
        "        name,dept,age,cg = word.split(\"-\")\n",
        "        return cls(name,dept,age,cg)\n",
        "s1 = Student(\"Samin\", \"CSE\", 21, 3.91)\n",
        "s1.showDetails()\n",
        "print(\"-----------------------\")\n",
        "s2 = Student(\"Fahim\", \"ECE\", 21, 3.85)\n",
        "s2.showDetails()\n",
        "print(\"-----------------------\")\n",
        "s3 = Student(\"Tahura\", \"EEE\", 22, 3.01)\n",
        "s3.showDetails() \n",
        "print(\"-----------------------\")\n",
        "s4 = Student.from_String(\"Sumaiya-BBA-23-3.96\")\n",
        "s4.showDetails() \n",
        "\n",
        "print(\"Class variables also known as static variables are declared with the static keyword in a class, but outside a method, constructor or a block. Instance variables are created when an object is created with the use of the keyword 'new' and destroyed when the object is destroyed.\")\n",
        "print(\"Instance methods need a class instance and can access the instance through self . Class methods don't need a class instance. They can't access the instance ( self ) but they have access to the class itself via cls \")"
      ]
    },
    {
      "cell_type": "markdown",
      "source": [
        "# Task 02"
      ],
      "metadata": {
        "id": "tvS-KwQbMoKz"
      }
    },
    {
      "cell_type": "code",
      "source": [
        "class Assassin:\n",
        "    assa_num = 0\n",
        "    def __init__(self,name,rate):\n",
        "        self.name = name\n",
        "        self.rate = rate\n",
        "        Assassin.assa_num += 1\n",
        "    @classmethod\n",
        "    def failureRate(cls,name,r):\n",
        "        r =  100 - r\n",
        "        return cls (name,r)\n",
        "    @classmethod\n",
        "    def failurePercentage (cls,name,r_1):\n",
        "        r_1 = int(r_1[0:-1])\n",
        "        r_1 = 100 - r_1\n",
        "        return cls (name,r_1)\n",
        "    def printDetails(self):\n",
        "        print(f\"Name: {self.name}\")\n",
        "        print(f\"Success rate: {self.rate}%\")\n",
        "        print(f\"Total number of Assassin: {Assassin.assa_num}\")\n",
        "john_wick = Assassin('John Wick', 100)\n",
        "john_wick.printDetails()\n",
        "print('================================')\n",
        "nagisa = Assassin.failureRate(\"Nagisa\", 20)\n",
        "nagisa.printDetails()\n",
        "print('================================')\n",
        "akabane = Assassin.failurePercentage(\"Akabane\", \"10%\")\n",
        "akabane.printDetails()\n"
      ],
      "metadata": {
        "colab": {
          "base_uri": "https://localhost:8080/"
        },
        "id": "FLutQv_VJje2",
        "outputId": "fc840f54-563c-4ab7-91ec-657c154b769a"
      },
      "execution_count": null,
      "outputs": [
        {
          "output_type": "stream",
          "name": "stdout",
          "text": [
            "Name: John Wick\n",
            "Success rate: 100%\n",
            "Total number of Assassin: 1\n",
            "================================\n",
            "Name: Nagisa\n",
            "Success rate: 80%\n",
            "Total number of Assassin: 2\n",
            "================================\n",
            "Name: Akabane\n",
            "Success rate: 90%\n",
            "Total number of Assassin: 3\n"
          ]
        }
      ]
    },
    {
      "cell_type": "markdown",
      "source": [
        "# Task 03"
      ],
      "metadata": {
        "id": "JnjYjzkYUMLA"
      }
    },
    {
      "cell_type": "code",
      "source": [
        "class Passenger:\n",
        "    count = 0\n",
        "    def __init__(self,name):\n",
        "        self.name = name\n",
        "        self.fare = 450\n",
        "        Passenger.count += 1\n",
        "    def set_bag_weight(self,weight):\n",
        "        if weight <= 20:\n",
        "            self.fare += 0\n",
        "        elif 21<= weight <= 50:\n",
        "            self.fare += 50\n",
        "        elif weight >= 50:\n",
        "            self.fare += 100\n",
        "    def printDetail(self):\n",
        "        print(f\"Name: {self.name}\")\n",
        "        print(f\"Bus Fare: {self.fare}\") \n",
        "print(\"Total Passenger:\", Passenger.count)\n",
        "p1 = Passenger(\"Jack\")\n",
        "p1.set_bag_weight(90)\n",
        "p2 = Passenger(\"Carol\")\n",
        "p2.set_bag_weight(10)\n",
        "p3 = Passenger(\"Mike\")\n",
        "p3.set_bag_weight(25)\n",
        "print(\"=========================\")\n",
        "p1.printDetail()\n",
        "print(\"=========================\")\n",
        "p2.printDetail()\n",
        "print(\"=========================\")\n",
        "p3.printDetail()\n",
        "print(\"=========================\")\n",
        "print(\"Total Passenger:\", Passenger.count)\n"
      ],
      "metadata": {
        "colab": {
          "base_uri": "https://localhost:8080/"
        },
        "id": "LOOSloWxRVBb",
        "outputId": "ff168fed-76eb-4981-c9dc-004c17c2b36c"
      },
      "execution_count": null,
      "outputs": [
        {
          "output_type": "stream",
          "name": "stdout",
          "text": [
            "Total Passenger: 0\n",
            "=========================\n",
            "Name: Jack\n",
            "Bus Fare: 550\n",
            "=========================\n",
            "Name: Carol\n",
            "Bus Fare: 450\n",
            "=========================\n",
            "Name: Mike\n",
            "Bus Fare: 500\n",
            "=========================\n",
            "Total Passenger: 3\n"
          ]
        }
      ]
    },
    {
      "cell_type": "markdown",
      "source": [
        "# Task 04"
      ],
      "metadata": {
        "id": "t43pL0s9UPHA"
      }
    },
    {
      "cell_type": "code",
      "source": [
        "class Travel:\n",
        "    count = 0\n",
        "    def __init__(self,loc1,loc2):\n",
        "        self.loc1 = loc1\n",
        "        self.loc2 = loc2\n",
        "        self.time=1\n",
        "    def set_time (self,time):\n",
        "        self.time = time\n",
        "    def set_source (self,loca):\n",
        "        self.loc1 = loca\n",
        "        return Travel (self.loc1,self.loc2)\n",
        "    def set_destination (self, loca2):\n",
        "        self.loc2 = loca2\n",
        "        return Travel (self.loc1,self.loc2)\n",
        "    \n",
        "    def display_travel_info(self):\n",
        "        Travel.count += 1\n",
        "        return f\"Source: {self.loc1}\\nDestination:{self.loc2}\\nFlight Time:{self.time}:00\"\n",
        "print(\"No. of Traveller =\", Travel.count)\n",
        "print(\"=======================\")\n",
        "t1 = Travel(\"Dhaka\",\"India\")\n",
        "print(t1.display_travel_info())\n",
        "print(\"=======================\")\n",
        "t2 = Travel(\"Kuala Lampur\",\"Dhaka\")\n",
        "t2.set_time(23)\n",
        "print(t2.display_travel_info())\n",
        "print(\"=======================\")\n",
        "t3 = Travel(\"Dhaka\",\"New_Zealand\")\n",
        "t3.set_time(15)\n",
        "t3.set_destination(\"Germany\")\n",
        "print(t3.display_travel_info())\n",
        "print(\"=======================\")\n",
        "t4 = Travel(\"Dhaka\",\"India\")\n",
        "t4.set_time(9)\n",
        "t4.set_source(\"Malaysia\")\n",
        "t4.set_destination(\"Canada\")\n",
        "print(t4.display_travel_info())\n",
        "print(\"=======================\")\n",
        "print(\"No. of Traveller =\", Travel.count)"
      ],
      "metadata": {
        "colab": {
          "base_uri": "https://localhost:8080/"
        },
        "id": "olBrGq2HTi6i",
        "outputId": "10e08c5f-6b24-47ac-dcc0-0b958cd57ec4"
      },
      "execution_count": null,
      "outputs": [
        {
          "output_type": "stream",
          "name": "stdout",
          "text": [
            "No. of Traveller = 0\n",
            "=======================\n",
            "Source: Dhaka\n",
            "Destination:India\n",
            "Flight Time:1:00\n",
            "=======================\n",
            "Source: Kuala Lampur\n",
            "Destination:Dhaka\n",
            "Flight Time:23:00\n",
            "=======================\n",
            "Source: Dhaka\n",
            "Destination:Germany\n",
            "Flight Time:15:00\n",
            "=======================\n",
            "Source: Malaysia\n",
            "Destination:Canada\n",
            "Flight Time:9:00\n",
            "=======================\n",
            "No. of Traveller = 4\n"
          ]
        }
      ]
    },
    {
      "cell_type": "markdown",
      "source": [
        "# Task 05"
      ],
      "metadata": {
        "id": "Ss-SnOLvZ3qv"
      }
    },
    {
      "cell_type": "code",
      "source": [
        "from datetime import date\n",
        "class Employee:\n",
        "    def __init__(self,name,w_h):\n",
        "        self.name = name\n",
        "        self.workingPeriod = w_h\n",
        "    @classmethod\n",
        "    def employeeByJoiningYear(cls,name,year):\n",
        "        exp = date.today().year - year\n",
        "        return cls (name,exp)\n",
        "    @staticmethod\n",
        "    def experienceCheck(wor,gen):\n",
        "        if wor < 3 and gen == \"male\":\n",
        "            return \"He is not experienced\"\n",
        "        elif wor >= 3 and gen == \"male\":\n",
        "            return \"He is experienced\"\n",
        "        elif wor < 3 and gen == \"female\":\n",
        "            return \"She is not experienced\"\n",
        "        else:\n",
        "            return \"She is experienced\"\n",
        "employee1 = Employee('Dororo', 3)\n",
        "employee2 = Employee.employeeByJoiningYear('Harry', 2016)\n",
        "print(employee1.workingPeriod)\n",
        "print(employee2.workingPeriod)\n",
        "print(employee1.name)\n",
        "print(employee2.name)\n",
        "print(Employee.experienceCheck(2, \"male\"))\n",
        "print(Employee.experienceCheck(3, \"female\"))\n",
        "\"\"\"\n",
        "3\n",
        "6\n",
        "Dororo\n",
        "Harry\n",
        "He is not experienced\n",
        "She is experienced\n",
        "\"\"\"\n",
        "p=0"
      ],
      "metadata": {
        "id": "Qk8NKmyLWFmi",
        "colab": {
          "base_uri": "https://localhost:8080/"
        },
        "outputId": "576f423c-1969-452a-f8e7-79a11336c54d"
      },
      "execution_count": null,
      "outputs": [
        {
          "output_type": "stream",
          "name": "stdout",
          "text": [
            "3\n",
            "6\n",
            "Dororo\n",
            "Harry\n",
            "He is not experienced\n",
            "She is experienced\n"
          ]
        }
      ]
    },
    {
      "cell_type": "markdown",
      "source": [
        "# Task 06"
      ],
      "metadata": {
        "id": "-76hWibm7G71"
      }
    },
    {
      "cell_type": "code",
      "source": [
        "class Laptop:\n",
        "    laptopCount = 0\n",
        "    def __init__(self,name,count):\n",
        "        self.name = name\n",
        "        self.count = count\n",
        "        Laptop.laptopCount += count\n",
        "    @staticmethod\n",
        "    def advantage():\n",
        "        print(\"Laptops are portable\")\n",
        "    @classmethod\n",
        "    def resetCount(self):\n",
        "        Laptop.laptopCount = 0\n",
        "    \n",
        "lenovo = Laptop(\"Lenovo\", 5);\n",
        "dell = Laptop(\"Dell\", 7);\n",
        "print(lenovo.name, lenovo.count)\n",
        "print(dell.name, dell.count)\n",
        "print(\"Total number of Laptops\", Laptop.laptopCount)\n",
        "Laptop.advantage()\n",
        "Laptop.resetCount()\n",
        "print(\"Total number of Laptops\", Laptop.laptopCount)\n"
      ],
      "metadata": {
        "id": "ekDlrJvF4wbH",
        "colab": {
          "base_uri": "https://localhost:8080/"
        },
        "outputId": "c3c504ea-42ad-4cf3-97ac-544218233c8a"
      },
      "execution_count": null,
      "outputs": [
        {
          "output_type": "stream",
          "name": "stdout",
          "text": [
            "Lenovo 5\n",
            "Dell 7\n",
            "Total number of Laptops 12\n",
            "Laptops are portable\n",
            "Total number of Laptops 0\n"
          ]
        }
      ]
    },
    {
      "cell_type": "markdown",
      "source": [
        "# task07"
      ],
      "metadata": {
        "id": "FxWlvVZjBoBc"
      }
    },
    {
      "cell_type": "code",
      "source": [
        "class Cat:\n",
        "    Number_of_cats = 0\n",
        "    def __init__(self,color,pos):\n",
        "        self.color = color\n",
        "        self.position = pos\n",
        "        Cat.Number_of_cats += 1\n",
        "    @classmethod\n",
        "    def no_parameter(cls):\n",
        "        return cls(\"White\",\"sitting\")\n",
        "    @classmethod\n",
        "    def first_parameter (cls,col):\n",
        "        return cls(col,\"sitting\")\n",
        "    @classmethod\n",
        "    def second_parameter (cls,posi):\n",
        "        return cls(\"White\",posi)\n",
        "    def printCat(self):\n",
        "        print(f\"{self.color} cat is {self.position}\")\n",
        "        \n",
        "    def changeColor (self,colo):\n",
        "        self.color = colo\n",
        "print(\"Total number of cats:\", Cat.Number_of_cats)\n",
        "c1 = Cat.no_parameter()\n",
        "c2 = Cat.first_parameter(\"Black\")\n",
        "c3 = Cat(\"Brown\", \"jumping\")\n",
        "c4 = Cat(\"Red\", \"purring\")\n",
        "c5 = Cat.second_parameter(\"playing\")\n",
        "print(\"=======================\")\n",
        "c1.printCat()\n",
        "c2.printCat()\n",
        "c3.printCat()\n",
        "c4.printCat()\n",
        "c5.printCat()\n",
        "c1.changeColor(\"Blue\")\n",
        "c3.changeColor(\"Purple\")\n",
        "c1.printCat()\n",
        "c3.printCat()\n",
        "print(\"=======================\")\n",
        "print(\"Total number of cats:\", Cat.Number_of_cats)\n",
        "\n",
        "\n",
        "\"\"\"\n",
        "Total number of cats: 0\n",
        "=======================\n",
        "White cat is sitting\n",
        "Black cat is sitting\n",
        "Brown cat is jumping\n",
        "Red cat is purring\n",
        "Grey cat is playing\n",
        "Blue cat is sitting\n",
        "Purple cat is jumping\n",
        "=======================\n",
        "Total number of cats: 5\n",
        "\n",
        "\"\"\"\n",
        "p = 0"
      ],
      "metadata": {
        "colab": {
          "base_uri": "https://localhost:8080/"
        },
        "id": "DIhqj6D6-j9N",
        "outputId": "ff7b817a-e464-4300-8a47-86a2fd7e5a31"
      },
      "execution_count": null,
      "outputs": [
        {
          "output_type": "stream",
          "name": "stdout",
          "text": [
            "Total number of cats: 0\n",
            "=======================\n",
            "White cat is sitting\n",
            "Black cat is sitting\n",
            "Brown cat is jumping\n",
            "Red cat is purring\n",
            "White cat is playing\n",
            "Blue cat is sitting\n",
            "Purple cat is jumping\n",
            "=======================\n",
            "Total number of cats: 5\n"
          ]
        }
      ]
    },
    {
      "cell_type": "markdown",
      "source": [
        "# task08"
      ],
      "metadata": {
        "id": "Wr8EWLR3L1iq"
      }
    },
    {
      "cell_type": "code",
      "source": [
        "import math\n",
        "class Cylinder:\n",
        "    radius = 5\n",
        "    height = 18\n",
        "    def __init__(self,rad,hei):\n",
        "        print(f\"Default radius={Cylinder.radius} and height={Cylinder.height}.\")\n",
        "        Cylinder.radius = rad\n",
        "        Cylinder.height = hei\n",
        "        print(f\"Updated: radius={Cylinder.radius} and height={Cylinder.height}.\")\n",
        "    @classmethod\n",
        "    def swap (cls,hei,rad):\n",
        "        return Cylinder (rad,hei)\n",
        "    @classmethod\n",
        "    def changeFormat (cls,word):\n",
        "        ra,he = word.split(\"-\")\n",
        "        return Cylinder (float(ra),float(he))\n",
        "    @staticmethod\n",
        "    def area (rad,hei):\n",
        "        ar = 2*math.pi*rad**2 + 2*math.pi*rad*hei\n",
        "        print(f\"Area:  {ar}\")\n",
        "    @staticmethod\n",
        "    def volume(rad,hei):\n",
        "        vol = math.pi*rad**2*hei\n",
        "        print(f\"Volume:  {vol}\")\n",
        "c1 = Cylinder(0,0)\n",
        "Cylinder.area(c1.radius,c1.height)\n",
        "Cylinder.volume(c1.radius,c1.height)\n",
        "print(\"===============================\")\n",
        "c2 = Cylinder.swap(8,3)\n",
        "c2.area(c2.radius,c2.height)\n",
        "c2.volume(c2.radius,c2.height)\n",
        "print(\"===============================\")\n",
        "c3 = Cylinder.changeFormat(\"7-13\")\n",
        "c3.area(c3.radius,c3.height)\n",
        "c3.volume(c3.radius,c3.height)\n",
        "print(\"===============================\")\n",
        "Cylinder(0.3,5.56).area(Cylinder.radius,Cylinder.height)\n",
        "print(\"===============================\")\n",
        "Cylinder(3,5).volume(Cylinder.radius,Cylinder.height)\n",
        "\n",
        "\n",
        "\n",
        "#Updated: radius=0 and height=0.\n",
        "#Area:  0.0\n",
        "#Volume:  0.0\n",
        "#===============================\n",
        "#Updated: radius=3 and height=8.\n",
        "#Area:  207.34511513692635\n",
        "#Volume:  226.1946710584651\n",
        "#===============================\n",
        "#Default radius=3 and height=8.\n",
        "#Updated: radius=7.0 and height=13.0.\n",
        "#Area:  879.645943005142\n",
        "#Volume:  2001.1945203366981\n",
        "#===============================\n",
        "#Default radius=7.0 and height=13.0.\n",
        "#Updated: radius=0.3 and height=5.56.\n",
        "#Area:  11.045839770021713\n",
        "#===============================\n",
        "#Default radius=0.3 and height=5.56.\n",
        "#Updated: radius=3 and height=5.\n",
        "#Volume:  141.3716694115407\n"
      ],
      "metadata": {
        "id": "Troe-v-QL9Eb",
        "colab": {
          "base_uri": "https://localhost:8080/"
        },
        "outputId": "bb714ebc-63d9-4db1-917a-5d1006acf641"
      },
      "execution_count": null,
      "outputs": [
        {
          "output_type": "stream",
          "name": "stdout",
          "text": [
            "Default radius=5 and height=18.\n",
            "Updated: radius=0 and height=0.\n",
            "Area:  0.0\n",
            "Volume:  0.0\n",
            "===============================\n",
            "Default radius=0 and height=0.\n",
            "Updated: radius=3 and height=8.\n",
            "Area:  207.34511513692635\n",
            "Volume:  226.1946710584651\n",
            "===============================\n",
            "Default radius=3 and height=8.\n",
            "Updated: radius=7.0 and height=13.0.\n",
            "Area:  879.645943005142\n",
            "Volume:  2001.1945203366981\n",
            "===============================\n",
            "Default radius=7.0 and height=13.0.\n",
            "Updated: radius=0.3 and height=5.56.\n",
            "Area:  11.045839770021713\n",
            "===============================\n",
            "Default radius=0.3 and height=5.56.\n",
            "Updated: radius=3 and height=5.\n",
            "Volume:  141.3716694115407\n"
          ]
        }
      ]
    },
    {
      "cell_type": "markdown",
      "source": [
        "# task09"
      ],
      "metadata": {
        "id": "AHRAM3ig5wnm"
      }
    },
    {
      "cell_type": "code",
      "source": [
        "class Student:\n",
        "    Total  = 0\n",
        "    BRAC  = 0  \n",
        "    Other  = 0\n",
        "    def __init__(self,name,dept,uni = \"BRAC University\"):\n",
        "        self.name = name\n",
        "        self.dept = dept\n",
        "        self.uni = uni\n",
        "        Student.Total += 1\n",
        "        if self.uni == \"BRAC University\":\n",
        "            Student.BRAC += 1\n",
        "        else:\n",
        "            Student.Other += 1 \n",
        "    @classmethod\n",
        "    def createStudent(cls,name,dept,uni = \"BRAC University\"):\n",
        "        \n",
        "        return Student(name,dept,uni)\n",
        "    @classmethod\n",
        "    def printDetails(cls):\n",
        "        print(f\"Total Student(s): {Student.Total}\")\n",
        "        print(f\"BRAC University Student(s): {Student.BRAC}\")\n",
        "        print(f\"Other Institution Student(s): {Student.Other}\")\n",
        "    def individualDetail(self):\n",
        "        print(f\"Name: {self.name}\")\n",
        "        print(f\"Department: {self.dept}\")\n",
        "        print(f\"Institution: {self.uni}\")\n",
        "Student.printDetails()\n",
        "print('#########################')\n",
        "\n",
        "mikasa = Student('Mikasa Ackerman', \"CSE\")\n",
        "mikasa.individualDetail()\n",
        "print('------------------------------------------')\n",
        "Student.printDetails()\n",
        "\n",
        "print('========================')\n",
        "\n",
        "harry = Student.createStudent('Harry Potter', \"Defence Against Dark Arts\", \"Hogwarts School\")\n",
        "harry.individualDetail()\n",
        "print('-------------------------------------------')\n",
        "Student.printDetails()\n",
        "\n",
        "print('=========================')\n",
        "\n",
        "levi = Student.createStudent(\"Levi Ackerman\", \"CSE\")\n",
        "levi.individualDetail()\n",
        "print('--------------------------------------------')\n",
        "Student.printDetails()\n"
      ],
      "metadata": {
        "id": "0_hdhaQi50JO",
        "colab": {
          "base_uri": "https://localhost:8080/"
        },
        "outputId": "cae40174-e6b7-4307-9635-9990f6941169"
      },
      "execution_count": null,
      "outputs": [
        {
          "output_type": "stream",
          "name": "stdout",
          "text": [
            "Total Student(s): 0\n",
            "BRAC University Student(s): 0\n",
            "Other Institution Student(s): 0\n",
            "#########################\n",
            "Name: Mikasa Ackerman\n",
            "Department: CSE\n",
            "Institution: BRAC University\n",
            "------------------------------------------\n",
            "Total Student(s): 1\n",
            "BRAC University Student(s): 1\n",
            "Other Institution Student(s): 0\n",
            "========================\n",
            "Name: Harry Potter\n",
            "Department: Defence Against Dark Arts\n",
            "Institution: Hogwarts School\n",
            "-------------------------------------------\n",
            "Total Student(s): 2\n",
            "BRAC University Student(s): 1\n",
            "Other Institution Student(s): 1\n",
            "=========================\n",
            "Name: Levi Ackerman\n",
            "Department: CSE\n",
            "Institution: BRAC University\n",
            "--------------------------------------------\n",
            "Total Student(s): 3\n",
            "BRAC University Student(s): 2\n",
            "Other Institution Student(s): 1\n"
          ]
        }
      ]
    },
    {
      "cell_type": "markdown",
      "source": [
        "# task10"
      ],
      "metadata": {
        "id": "m3jW6J1L50iG"
      }
    },
    {
      "cell_type": "code",
      "source": [
        "class SultansDine:\n",
        "    branch = 0\n",
        "    total_sell = 0\n",
        "    lis = []\n",
        "    def __init__(self,name):\n",
        "        self.name = name\n",
        "        SultansDine.branch += 1\n",
        "        self.branch_sell = 0\n",
        "    def sellQuantity(self,amm):\n",
        "        \n",
        "        if  10<= amm < 20:\n",
        "            self.branch_sell = amm* 350\n",
        "        elif amm <10:\n",
        "            self.branch_sell = amm* 300\n",
        "        else:\n",
        "            self.branch_sell = amm* 400\n",
        "        SultansDine.total_sell += self.branch_sell\n",
        "        SultansDine.lis.append(self)\n",
        "    def branchInformation(self):\n",
        "\n",
        "        print(f\"Branch Name: {self.name}\\nBranch Sell: {self.branch_sell} Taka\")\n",
        "    @classmethod\n",
        "    def details(cls):\n",
        "        print(f\"Total Number of branch(s): {SultansDine.branch}\")\n",
        "        print(f\"Total sell: {SultansDine.total_sell} Taka\")\n",
        "        for ita in SultansDine.lis:\n",
        "            print(f\"Branch Name: {ita.name}, Branch Sell: {ita.branch_sell} Taka\")\n",
        "            print(f\"Branch consists of total sell's: {round(ita.branch_sell/SultansDine.total_sell * 100,2)}%\")\n",
        "SultansDine.details()\n",
        "print('########################')\n",
        "dhanmodi = SultansDine('Dhanmondi')\n",
        "dhanmodi.sellQuantity(25)\n",
        "dhanmodi.branchInformation()\n",
        "print('-----------------------------------------')\n",
        "SultansDine.details()\n",
        "\n",
        "print('========================')\n",
        "\n",
        "baily_road = SultansDine('Baily Road')\n",
        "baily_road.sellQuantity(15)\n",
        "baily_road.branchInformation()\n",
        "print('-----------------------------------------')\n",
        "SultansDine.details()\n",
        "\n",
        "print('========================')\n",
        "\n",
        "gulshan = SultansDine('Gulshan')\n",
        "gulshan.sellQuantity(9)\n",
        "gulshan.branchInformation()\n",
        "print('-----------------------------------------')\n",
        "SultansDine.details()\n"
      ],
      "metadata": {
        "id": "Gc7bMpVs52em",
        "colab": {
          "base_uri": "https://localhost:8080/"
        },
        "outputId": "fe49970e-d4d9-43bc-d2d4-76571ba7d431"
      },
      "execution_count": null,
      "outputs": [
        {
          "output_type": "stream",
          "name": "stdout",
          "text": [
            "Total Number of branch(s): 0\n",
            "Total sell: 0 Taka\n",
            "########################\n",
            "Branch Name: Dhanmondi\n",
            "Branch Sell: 10000 Taka\n",
            "-----------------------------------------\n",
            "Total Number of branch(s): 1\n",
            "Total sell: 10000 Taka\n",
            "Branch Name: Dhanmondi, Branch Sell: 10000 Taka\n",
            "Branch consists of total sell's: 100.0%\n",
            "========================\n",
            "Branch Name: Baily Road\n",
            "Branch Sell: 5250 Taka\n",
            "-----------------------------------------\n",
            "Total Number of branch(s): 2\n",
            "Total sell: 15250 Taka\n",
            "Branch Name: Dhanmondi, Branch Sell: 10000 Taka\n",
            "Branch consists of total sell's: 65.57%\n",
            "Branch Name: Baily Road, Branch Sell: 5250 Taka\n",
            "Branch consists of total sell's: 34.43%\n",
            "========================\n",
            "Branch Name: Gulshan\n",
            "Branch Sell: 2700 Taka\n",
            "-----------------------------------------\n",
            "Total Number of branch(s): 3\n",
            "Total sell: 17950 Taka\n",
            "Branch Name: Dhanmondi, Branch Sell: 10000 Taka\n",
            "Branch consists of total sell's: 55.71%\n",
            "Branch Name: Baily Road, Branch Sell: 5250 Taka\n",
            "Branch consists of total sell's: 29.25%\n",
            "Branch Name: Gulshan, Branch Sell: 2700 Taka\n",
            "Branch consists of total sell's: 15.04%\n"
          ]
        }
      ]
    },
    {
      "cell_type": "markdown",
      "source": [
        "# task12 (tracing)"
      ],
      "metadata": {
        "id": "AxnDQ-O8LvIE"
      }
    },
    {
      "cell_type": "code",
      "source": [
        "class FinalT6A:\n",
        "    temp = 3\n",
        " \n",
        "    def __init__(self, x, p):\n",
        "        self.sum, self.y = 0, 2\n",
        "        FinalT6A.temp += 3\n",
        "        self.y = self.temp - p\n",
        "        self.sum = self.temp + x\n",
        "        print(x, self.y, self.sum)\n",
        "    \n",
        "    def methodA(self):\n",
        "        x, y = 0, 0\n",
        "        y = y + self.y\n",
        "        x = self.y + 2 + self.temp\n",
        "        self.sum = x + y + self.methodB(self.temp, y)\n",
        "        print(x, y, self.sum)\n",
        "    \n",
        "    def methodB(self, temp, n):\n",
        "        x = 0\n",
        "        FinalT6A.temp += 1\n",
        "        self.y = self.y + (FinalT6A.temp)\n",
        "        FinalT6A.temp -= 1\n",
        "        x = x + 2 + n\n",
        "        self.sum = self.sum + x + self.y\n",
        "        print(x, self.y, self.sum)\n",
        "        return self.sum\n",
        "\n",
        "q1 = FinalT6A(2,1)\n",
        "q1.methodA()\n",
        "q1.methodA()\n"
      ],
      "metadata": {
        "colab": {
          "base_uri": "https://localhost:8080/"
        },
        "id": "q57cQ2EZEnKZ",
        "outputId": "86b2dd35-42a9-4598-b518-f4873b716b28"
      },
      "execution_count": null,
      "outputs": [
        {
          "output_type": "stream",
          "name": "stdout",
          "text": [
            "2 5 8\n",
            "7 12 27\n",
            "13 5 45\n",
            "14 19 78\n",
            "20 12 110\n"
          ]
        }
      ]
    },
    {
      "cell_type": "code",
      "source": [
        "class msgClass:\n",
        "    def __init__(self):\n",
        "        self.content = 0\n",
        " \n",
        "class Quiz3:\n",
        "    x = 0\n",
        "    def __init__(self, k = None):\n",
        "        self.sum, self.y = 0, 0\n",
        "        if k is None:\n",
        "            self.sum = 5\n",
        "            Quiz3.x = 2\n",
        "            self.y = 2\n",
        "        else:\n",
        "            self.sum = self.sum + k\n",
        "            self.y = 3\n",
        "            Quiz3.x += 2    \n",
        "    def methodA(self):\n",
        "        x = 1\n",
        "        y = 1\n",
        "        msg = [None]\n",
        "        myMsg = msgClass()\n",
        "        myMsg.content = Quiz3.x\n",
        "        msg[0] = myMsg\n",
        "        msg[0].content = self.y + myMsg.content\n",
        "        self.y = self.y + self.methodB(msg[0])\n",
        "        y = self.methodB(msg[0]) + self.y\n",
        "        x = y + self.methodB(msg, msg[0])\n",
        "        self.sum = x + y + msg[0].content\n",
        "        print(x, y, self.sum)\n",
        "    def methodB(self, *args):\n",
        "        if len(args) == 2:\n",
        "            mg2, mg1 = args\n",
        "            x = 2\n",
        "            self.y = self.y + mg2[0].content\n",
        "            mg2[0].content = self.y + mg1.content\n",
        "            x = x + 2 + mg1.content\n",
        "            self.sum = self.sum + x + self.y\n",
        "            mg1.content = self.sum - mg2[0].content\n",
        "            print(Quiz3.x, self.y, self.sum)\n",
        "            return self.sum\n",
        "        \n",
        "        elif len(args) == 1:\n",
        "            mg1, = args\n",
        "            x = 1\n",
        "            y = 2\n",
        "            y = self.sum + mg1.content\n",
        "            self.y = y + mg1.content\n",
        "            x = Quiz3.x + 5 + mg1.content\n",
        "            self.sum = self.sum + x + y\n",
        "            Quiz3.x = mg1.content + x + 3\n",
        "            print(x, y, self.sum)\n",
        "            return y\n",
        "\n",
        "a1 = Quiz3()\n",
        "a2 = Quiz3(5)\n",
        "msg = msgClass()\n",
        "a1.methodA()\n",
        "a2.methodB(msg)\n"
      ],
      "metadata": {
        "colab": {
          "base_uri": "https://localhost:8080/"
        },
        "id": "vb0CifR-GGIT",
        "outputId": "66c26d09-7b30-491b-b581-129336f863f6"
      },
      "execution_count": null,
      "outputs": [
        {
          "output_type": "stream",
          "name": "stdout",
          "text": [
            "15 11 31\n",
            "35 37 103\n",
            "44 49 211\n",
            "291 80 527\n",
            "49 5 59\n"
          ]
        },
        {
          "output_type": "execute_result",
          "data": {
            "text/plain": [
              "5"
            ]
          },
          "metadata": {},
          "execution_count": 33
        }
      ]
    },
    {
      "cell_type": "code",
      "source": [
        "class Puzzle:\n",
        "    x = 0\n",
        "    def methodA(self):\n",
        "        Puzzle.x = 5 \n",
        "        z = Puzzle.x + self.methodB(Puzzle.x)\n",
        "        print(Puzzle.x, z)\n",
        "        z = self.methodB(z + 2) + Puzzle.x\n",
        "        print(Puzzle.x, z)\n",
        "        self.methodB(Puzzle.x, z)\n",
        "        print(Puzzle.x, z)\n",
        "    def methodB(self, *args):\n",
        "        if len(args) == 1:\n",
        "            y = args[0]\n",
        "            Puzzle.x = y + Puzzle.x\n",
        "            print(Puzzle.x, y)\n",
        "            return Puzzle.x + 3\n",
        "        else:\n",
        "            z, x = args\n",
        "            z = z + 1\n",
        "            x = x + 1\n",
        "            print(z, x)\n",
        "\n",
        "p = Puzzle()\n",
        "p.methodA()\n",
        "p.methodA()\n",
        "p = Puzzle()\n",
        "p.methodA()\n",
        "p.methodB(7)"
      ],
      "metadata": {
        "id": "iaJ_exXER1Lh",
        "colab": {
          "base_uri": "https://localhost:8080/"
        },
        "outputId": "fac4f78d-00a2-4ea3-954e-7409107795c8"
      },
      "execution_count": null,
      "outputs": [
        {
          "output_type": "stream",
          "name": "stdout",
          "text": [
            "10 5\n",
            "10 18\n",
            "30 20\n",
            "30 63\n",
            "31 64\n",
            "30 63\n",
            "10 5\n",
            "10 18\n",
            "30 20\n",
            "30 63\n",
            "31 64\n",
            "30 63\n",
            "10 5\n",
            "10 18\n",
            "30 20\n",
            "30 63\n",
            "31 64\n",
            "30 63\n",
            "37 7\n"
          ]
        },
        {
          "output_type": "execute_result",
          "data": {
            "text/plain": [
              "40"
            ]
          },
          "metadata": {},
          "execution_count": 10
        }
      ]
    }
  ]
}